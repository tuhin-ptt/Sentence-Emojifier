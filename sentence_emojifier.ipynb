{
  "nbformat": 4,
  "nbformat_minor": 0,
  "metadata": {
    "kernelspec": {
      "language": "python",
      "display_name": "Python 3",
      "name": "python3"
    },
    "language_info": {
      "name": "python",
      "version": "3.7.10",
      "mimetype": "text/x-python",
      "codemirror_mode": {
        "name": "ipython",
        "version": 3
      },
      "pygments_lexer": "ipython3",
      "nbconvert_exporter": "python",
      "file_extension": ".py"
    },
    "colab": {
      "name": "sentence-emojifier.ipynb",
      "provenance": []
    }
  },
  "cells": [
    {
      "cell_type": "markdown",
      "metadata": {
        "id": "DMi_zTfqEEer"
      },
      "source": [
        "## Importing necessary modules"
      ]
    },
    {
      "cell_type": "code",
      "metadata": {
        "colab": {
          "base_uri": "https://localhost:8080/"
        },
        "id": "cjdgNV0TE63f",
        "outputId": "6c7b4ad1-919a-43a8-9b17-5cac47d1d39d"
      },
      "source": [
        "from google.colab import drive\n",
        "drive.mount('/content/drive')"
      ],
      "execution_count": 1,
      "outputs": [
        {
          "output_type": "stream",
          "name": "stdout",
          "text": [
            "Mounted at /content/drive\n"
          ]
        }
      ]
    },
    {
      "cell_type": "code",
      "metadata": {
        "colab": {
          "base_uri": "https://localhost:8080/"
        },
        "id": "BJ6fBT3CFUkt",
        "outputId": "f8df16b5-700b-4104-a9a3-17470c1d2043"
      },
      "source": [
        "%cd drive/MyDrive/Github/Natural-Language-Processing/Sentence Emojifier"
      ],
      "execution_count": 9,
      "outputs": [
        {
          "output_type": "stream",
          "name": "stdout",
          "text": [
            "/content/drive/MyDrive/Github/Natural-Language-Processing/Sentence Emojifier\n"
          ]
        }
      ]
    },
    {
      "cell_type": "code",
      "metadata": {
        "execution": {
          "iopub.status.busy": "2021-10-07T05:22:24.208902Z",
          "iopub.execute_input": "2021-10-07T05:22:24.209482Z",
          "iopub.status.idle": "2021-10-07T05:22:25.291535Z",
          "shell.execute_reply.started": "2021-10-07T05:22:24.209327Z",
          "shell.execute_reply": "2021-10-07T05:22:25.290507Z"
        },
        "trusted": true,
        "id": "EQSin8XZEEfE"
      },
      "source": [
        "import pandas as pd\n",
        "import numpy as np\n",
        "import emoji\n",
        "import matplotlib.pyplot as plt\n",
        "from sklearn.model_selection import train_test_split\n",
        "\n",
        "%matplotlib inline"
      ],
      "execution_count": 4,
      "outputs": []
    },
    {
      "cell_type": "markdown",
      "metadata": {
        "id": "O0di6gJwEEfR"
      },
      "source": [
        "## Reading pretrained Glove embedding vectors\n",
        "Vocabulary is created from Glove embedding words"
      ]
    },
    {
      "cell_type": "code",
      "metadata": {
        "colab": {
          "base_uri": "https://localhost:8080/"
        },
        "id": "GbpxqMSiFr-5",
        "outputId": "c55c79b9-2997-4bdb-d500-fc617de58f13"
      },
      "source": [
        "!unzip \"glove.6B.50d.txt.zip\""
      ],
      "execution_count": 12,
      "outputs": [
        {
          "output_type": "stream",
          "name": "stdout",
          "text": [
            "Archive:  glove.6B.50d.txt.zip\n",
            "  inflating: glove.6B.50d.txt        \n"
          ]
        }
      ]
    },
    {
      "cell_type": "code",
      "metadata": {
        "execution": {
          "iopub.status.busy": "2021-10-07T05:22:33.513116Z",
          "iopub.execute_input": "2021-10-07T05:22:33.513471Z",
          "iopub.status.idle": "2021-10-07T05:22:45.676972Z",
          "shell.execute_reply.started": "2021-10-07T05:22:33.513438Z",
          "shell.execute_reply": "2021-10-07T05:22:45.676068Z"
        },
        "trusted": true,
        "id": "WKDaRz5cEEfU"
      },
      "source": [
        "vocab = set()\n",
        "word2vec_map = {}\n",
        "word2Ind = {}\n",
        "Ind2word = {}\n",
        "with open(\"glove.6B.50d.txt\", 'r') as f:\n",
        "    for line in f:\n",
        "        line = line.strip().split()\n",
        "        curr_word = line[0]\n",
        "        vocab.add(curr_word)\n",
        "        word2vec_map[curr_word] = np.array(line[1:], dtype=np.float64)\n",
        "\n",
        "    idx = 1  #zero is used for PAD\n",
        "    for word in sorted(vocab):\n",
        "        word2Ind[word] = idx\n",
        "        Ind2word[idx] = word\n",
        "        idx = idx + 1"
      ],
      "execution_count": 13,
      "outputs": []
    },
    {
      "cell_type": "markdown",
      "metadata": {
        "id": "4jdk3OP5EEfZ"
      },
      "source": [
        "## Function to convert emoji number to emoji object"
      ]
    },
    {
      "cell_type": "code",
      "metadata": {
        "execution": {
          "iopub.status.busy": "2021-10-07T05:28:47.023833Z",
          "iopub.execute_input": "2021-10-07T05:28:47.024478Z",
          "iopub.status.idle": "2021-10-07T05:28:47.030706Z",
          "shell.execute_reply.started": "2021-10-07T05:28:47.024441Z",
          "shell.execute_reply": "2021-10-07T05:28:47.029649Z"
        },
        "trusted": true,
        "id": "TcOtLAWbEEff"
      },
      "source": [
        "def label_to_emoji(label):\n",
        "    emoji_dictionary = {\"0\": \"\\u2764\\uFE0F\",\n",
        "                    \"1\": \":baseball:\",\n",
        "                    \"2\": \":smile:\",\n",
        "                    \"3\": \":disappointed:\",\n",
        "                    \"4\": \":fork_and_knife:\"}\n",
        "    return emoji.emojize(emoji_dictionary[str(label)], use_aliases=True)"
      ],
      "execution_count": 14,
      "outputs": []
    },
    {
      "cell_type": "markdown",
      "metadata": {
        "id": "04caAOuYEEfk"
      },
      "source": [
        "## Loading dataset"
      ]
    },
    {
      "cell_type": "code",
      "metadata": {
        "id": "dAH9JHab-2bo",
        "execution": {
          "iopub.status.busy": "2021-10-07T05:28:50.217957Z",
          "iopub.execute_input": "2021-10-07T05:28:50.218853Z",
          "iopub.status.idle": "2021-10-07T05:28:50.237342Z",
          "shell.execute_reply.started": "2021-10-07T05:28:50.218805Z",
          "shell.execute_reply": "2021-10-07T05:28:50.236647Z"
        },
        "trusted": true,
        "colab": {
          "base_uri": "https://localhost:8080/"
        },
        "outputId": "4c8e50bd-a1f3-4e8e-8eee-5a362ac56fc2"
      },
      "source": [
        "data = pd.read_csv(\"emojifier_dataset.csv\")\n",
        "X = data['sentence']\n",
        "y = data['emoji']\n",
        "for i in range(5):\n",
        "    print(X[i], label_to_emoji(y[i]))"
      ],
      "execution_count": 15,
      "outputs": [
        {
          "output_type": "stream",
          "name": "stdout",
          "text": [
            "French macaroon is so tasty 🍴\n",
            "work is horrible 😞\n",
            "I am upset 😞\n",
            "throw the ball ⚾\n",
            "Good joke 😄\n"
          ]
        }
      ]
    },
    {
      "cell_type": "markdown",
      "metadata": {
        "id": "NArHgdxZEEfx"
      },
      "source": [
        "## Split data into training and testing sets"
      ]
    },
    {
      "cell_type": "code",
      "metadata": {
        "execution": {
          "iopub.status.busy": "2021-10-07T05:36:34.783212Z",
          "iopub.execute_input": "2021-10-07T05:36:34.783579Z",
          "iopub.status.idle": "2021-10-07T05:36:34.791627Z",
          "shell.execute_reply.started": "2021-10-07T05:36:34.783545Z",
          "shell.execute_reply": "2021-10-07T05:36:34.790706Z"
        },
        "trusted": true,
        "id": "5r-nAnrZEEf1"
      },
      "source": [
        "X_train, X_test, y_train, y_test = train_test_split(X, y, test_size=0.25, random_state=42)"
      ],
      "execution_count": 26,
      "outputs": []
    },
    {
      "cell_type": "code",
      "metadata": {
        "execution": {
          "iopub.status.busy": "2021-10-07T05:28:54.823026Z",
          "iopub.execute_input": "2021-10-07T05:28:54.823942Z",
          "iopub.status.idle": "2021-10-07T05:28:54.833687Z",
          "shell.execute_reply.started": "2021-10-07T05:28:54.823896Z",
          "shell.execute_reply": "2021-10-07T05:28:54.832735Z"
        },
        "trusted": true,
        "colab": {
          "base_uri": "https://localhost:8080/"
        },
        "id": "RtiQRRAdEEf4",
        "outputId": "21bafd4a-2760-442f-9d10-a63fa5fb79e6"
      },
      "source": [
        "max_len = len(max(X_train, key=len).split()) #maximum sentence length in training set\n",
        "max_len"
      ],
      "execution_count": 27,
      "outputs": [
        {
          "output_type": "execute_result",
          "data": {
            "text/plain": [
              "10"
            ]
          },
          "metadata": {},
          "execution_count": 27
        }
      ]
    },
    {
      "cell_type": "markdown",
      "metadata": {
        "id": "GKVQ6Er_EEf6"
      },
      "source": [
        "## Converting sentences to integers"
      ]
    },
    {
      "cell_type": "code",
      "metadata": {
        "execution": {
          "iopub.status.busy": "2021-10-07T05:28:58.403046Z",
          "iopub.execute_input": "2021-10-07T05:28:58.403386Z",
          "iopub.status.idle": "2021-10-07T05:28:58.410654Z",
          "shell.execute_reply.started": "2021-10-07T05:28:58.403338Z",
          "shell.execute_reply": "2021-10-07T05:28:58.409708Z"
        },
        "trusted": true,
        "id": "pX1nKKWEEEgB"
      },
      "source": [
        "def sentences_to_indices(X, word2Ind, max_len):\n",
        "    \n",
        "    X_indices = [] \n",
        "    for i, sentence in enumerate(X):  # loop over training examples\n",
        "        sentence_words = sentence.lower().split()\n",
        "        sentence_indices = []\n",
        "        for word in sentence_words:\n",
        "            sentence_indices.append(word2Ind[word])\n",
        "        num_pad = max_len - len(sentence_indices)\n",
        "        #PADs are added at beginning so that last hidden state of LSTM is more meaningful\n",
        "        sentence_indices =  num_pad*[0] + sentence_indices #zero represents PAD\n",
        "        X_indices.append(sentence_indices)    \n",
        "    return np.array(X_indices)"
      ],
      "execution_count": 28,
      "outputs": []
    },
    {
      "cell_type": "code",
      "metadata": {
        "execution": {
          "iopub.status.busy": "2021-10-07T05:29:08.310276Z",
          "iopub.execute_input": "2021-10-07T05:29:08.310530Z",
          "iopub.status.idle": "2021-10-07T05:29:08.321856Z",
          "shell.execute_reply.started": "2021-10-07T05:29:08.310501Z",
          "shell.execute_reply": "2021-10-07T05:29:08.320920Z"
        },
        "trusted": true,
        "id": "0QliUON_EEgE"
      },
      "source": [
        "from tensorflow.keras.utils import to_categorical\n",
        "X_train_indices = sentences_to_indices(X_train, word2Ind, max_len)\n",
        "y_train_oh = to_categorical(y_train, num_classes=5)"
      ],
      "execution_count": 29,
      "outputs": []
    },
    {
      "cell_type": "code",
      "metadata": {
        "execution": {
          "iopub.status.busy": "2021-10-07T05:31:55.248454Z",
          "iopub.execute_input": "2021-10-07T05:31:55.248777Z",
          "iopub.status.idle": "2021-10-07T05:31:55.254239Z",
          "shell.execute_reply.started": "2021-10-07T05:31:55.248749Z",
          "shell.execute_reply": "2021-10-07T05:31:55.253331Z"
        },
        "trusted": true,
        "id": "XA4g2AJuEEgH"
      },
      "source": [
        "from tensorflow.keras import Model, Input\n",
        "from tensorflow.keras.layers import LSTM, Embedding, Dense, Dropout, Activation, Bidirectional"
      ],
      "execution_count": 30,
      "outputs": []
    },
    {
      "cell_type": "markdown",
      "metadata": {
        "id": "mFuo115oEEgI"
      },
      "source": [
        "## Setting pretrained Glove embedding to keras Embedding layer"
      ]
    },
    {
      "cell_type": "code",
      "metadata": {
        "id": "o56Z8PsJAFSX",
        "execution": {
          "iopub.status.busy": "2021-10-07T05:31:57.380600Z",
          "iopub.execute_input": "2021-10-07T05:31:57.381422Z",
          "iopub.status.idle": "2021-10-07T05:31:57.390993Z",
          "shell.execute_reply.started": "2021-10-07T05:31:57.381354Z",
          "shell.execute_reply": "2021-10-07T05:31:57.389658Z"
        },
        "trusted": true
      },
      "source": [
        "def pretrained_embedding_layer(word2vec_map, word2Ind):\n",
        "    '''Keras embedding layer is loaded with pretrained Glove vectors'''\n",
        "    vocab_size = len(word2Ind) + 1   # adding 1 to fit Keras embedding (requirement)\n",
        "    emb_dim = len(word2vec_map[\"a\"]) \n",
        "    \n",
        "    emb_matrix = np.zeros((vocab_size, emb_dim))\n",
        "    for word, idx in word2Ind.items():\n",
        "        emb_matrix[idx, :] = word2vec_map[word]\n",
        "\n",
        "    embedding_layer = Embedding(vocab_size, emb_dim, trainable = False)\n",
        "    # Build the embedding layer, it is required before setting the weights of the embedding layer. \n",
        "    embedding_layer.build((None,))\n",
        "    # Set the weights of the embedding layer to the embedding matrix. This layer is now pretrained.\n",
        "    embedding_layer.set_weights([emb_matrix])\n",
        "    \n",
        "    return embedding_layer"
      ],
      "execution_count": 31,
      "outputs": []
    },
    {
      "cell_type": "markdown",
      "metadata": {
        "id": "vJfMV0DrEEgP"
      },
      "source": [
        "## Defining model"
      ]
    },
    {
      "cell_type": "code",
      "metadata": {
        "id": "CXzgARFWAHpq",
        "execution": {
          "iopub.status.busy": "2021-10-07T05:37:16.739024Z",
          "iopub.execute_input": "2021-10-07T05:37:16.739311Z",
          "iopub.status.idle": "2021-10-07T05:37:16.747321Z",
          "shell.execute_reply.started": "2021-10-07T05:37:16.739284Z",
          "shell.execute_reply": "2021-10-07T05:37:16.746412Z"
        },
        "trusted": true
      },
      "source": [
        "def emojify_model(max_len, word2vec_map, word2Ind):\n",
        "\n",
        "    sentence_indices = Input(shape = (max_len, ), dtype = 'int32')\n",
        "    embeddings = pretrained_embedding_layer(word2vec_map, word2Ind)(sentence_indices)\n",
        "    X = LSTM(128, return_sequences = True)(embeddings)\n",
        "    X = Dropout(0.5)(X)\n",
        "    X = LSTM(128, return_sequences = False)(X) #outputs last hidden state\n",
        "    X = Dropout(0.5)(X)\n",
        "    X = Dense(5)(X)  #output logits for 5 different emojies\n",
        "    output = Activation('softmax')(X)\n",
        "    \n",
        "    model = Model(inputs = sentence_indices, outputs = output)\n",
        "    model.compile(loss='categorical_crossentropy', optimizer='adam', metrics=['accuracy'])\n",
        "    return model"
      ],
      "execution_count": 86,
      "outputs": []
    },
    {
      "cell_type": "code",
      "metadata": {
        "id": "rk-I_mR1AMDx",
        "execution": {
          "iopub.status.busy": "2021-10-07T05:38:55.290863Z",
          "iopub.execute_input": "2021-10-07T05:38:55.291342Z",
          "iopub.status.idle": "2021-10-07T05:38:57.087914Z",
          "shell.execute_reply.started": "2021-10-07T05:38:55.291302Z",
          "shell.execute_reply": "2021-10-07T05:38:57.086753Z"
        },
        "trusted": true,
        "colab": {
          "base_uri": "https://localhost:8080/"
        },
        "outputId": "0e3f2f3f-0704-41d0-b9bc-da560870dfae"
      },
      "source": [
        "model = emojify_model(max_len, word2vec_map, word2Ind)\n",
        "model.summary()"
      ],
      "execution_count": 87,
      "outputs": [
        {
          "output_type": "stream",
          "name": "stdout",
          "text": [
            "Model: \"model_11\"\n",
            "_________________________________________________________________\n",
            "Layer (type)                 Output Shape              Param #   \n",
            "=================================================================\n",
            "input_12 (InputLayer)        [(None, 10)]              0         \n",
            "_________________________________________________________________\n",
            "embedding_11 (Embedding)     (None, 10, 50)            20000050  \n",
            "_________________________________________________________________\n",
            "lstm_23 (LSTM)               (None, 10, 128)           91648     \n",
            "_________________________________________________________________\n",
            "dropout_18 (Dropout)         (None, 10, 128)           0         \n",
            "_________________________________________________________________\n",
            "lstm_24 (LSTM)               (None, 128)               131584    \n",
            "_________________________________________________________________\n",
            "dropout_19 (Dropout)         (None, 128)               0         \n",
            "_________________________________________________________________\n",
            "dense_12 (Dense)             (None, 5)                 645       \n",
            "_________________________________________________________________\n",
            "activation_11 (Activation)   (None, 5)                 0         \n",
            "=================================================================\n",
            "Total params: 20,223,927\n",
            "Trainable params: 223,877\n",
            "Non-trainable params: 20,000,050\n",
            "_________________________________________________________________\n"
          ]
        }
      ]
    },
    {
      "cell_type": "markdown",
      "metadata": {
        "id": "xXAemiNzEEgT"
      },
      "source": [
        "## Training model with training data"
      ]
    },
    {
      "cell_type": "code",
      "metadata": {
        "id": "z1fhRtAPAOqs",
        "execution": {
          "iopub.status.busy": "2021-10-07T05:38:57.336059Z",
          "iopub.execute_input": "2021-10-07T05:38:57.336397Z",
          "iopub.status.idle": "2021-10-07T05:39:07.307058Z",
          "shell.execute_reply.started": "2021-10-07T05:38:57.336342Z",
          "shell.execute_reply": "2021-10-07T05:39:07.306272Z"
        },
        "trusted": true,
        "colab": {
          "base_uri": "https://localhost:8080/"
        },
        "outputId": "dbf59446-817a-443c-e867-91c93f8150d2"
      },
      "source": [
        "model.fit(X_train_indices, y_train_oh, epochs = 50, batch_size = 32, shuffle=True)"
      ],
      "execution_count": 88,
      "outputs": [
        {
          "output_type": "stream",
          "name": "stdout",
          "text": [
            "Epoch 1/50\n",
            "5/5 [==============================] - 3s 24ms/step - loss: 1.6047 - accuracy: 0.2263\n",
            "Epoch 2/50\n",
            "5/5 [==============================] - 0s 23ms/step - loss: 1.5272 - accuracy: 0.3139\n",
            "Epoch 3/50\n",
            "5/5 [==============================] - 0s 22ms/step - loss: 1.5116 - accuracy: 0.4088\n",
            "Epoch 4/50\n",
            "5/5 [==============================] - 0s 24ms/step - loss: 1.4659 - accuracy: 0.3723\n",
            "Epoch 5/50\n",
            "5/5 [==============================] - 0s 22ms/step - loss: 1.4252 - accuracy: 0.4161\n",
            "Epoch 6/50\n",
            "5/5 [==============================] - 0s 23ms/step - loss: 1.4004 - accuracy: 0.4015\n",
            "Epoch 7/50\n",
            "5/5 [==============================] - 0s 22ms/step - loss: 1.3500 - accuracy: 0.4161\n",
            "Epoch 8/50\n",
            "5/5 [==============================] - 0s 24ms/step - loss: 1.2712 - accuracy: 0.5255\n",
            "Epoch 9/50\n",
            "5/5 [==============================] - 0s 22ms/step - loss: 1.2171 - accuracy: 0.5255\n",
            "Epoch 10/50\n",
            "5/5 [==============================] - 0s 23ms/step - loss: 1.1626 - accuracy: 0.5547\n",
            "Epoch 11/50\n",
            "5/5 [==============================] - 0s 22ms/step - loss: 1.0385 - accuracy: 0.6058\n",
            "Epoch 12/50\n",
            "5/5 [==============================] - 0s 23ms/step - loss: 0.9405 - accuracy: 0.6642\n",
            "Epoch 13/50\n",
            "5/5 [==============================] - 0s 21ms/step - loss: 0.9111 - accuracy: 0.6642\n",
            "Epoch 14/50\n",
            "5/5 [==============================] - 0s 22ms/step - loss: 0.7896 - accuracy: 0.7153\n",
            "Epoch 15/50\n",
            "5/5 [==============================] - 0s 22ms/step - loss: 0.7731 - accuracy: 0.7007\n",
            "Epoch 16/50\n",
            "5/5 [==============================] - 0s 24ms/step - loss: 0.6818 - accuracy: 0.7445\n",
            "Epoch 17/50\n",
            "5/5 [==============================] - 0s 25ms/step - loss: 0.6927 - accuracy: 0.7737\n",
            "Epoch 18/50\n",
            "5/5 [==============================] - 0s 23ms/step - loss: 0.7524 - accuracy: 0.7226\n",
            "Epoch 19/50\n",
            "5/5 [==============================] - 0s 22ms/step - loss: 0.5937 - accuracy: 0.7737\n",
            "Epoch 20/50\n",
            "5/5 [==============================] - 0s 23ms/step - loss: 0.5349 - accuracy: 0.8102\n",
            "Epoch 21/50\n",
            "5/5 [==============================] - 0s 24ms/step - loss: 0.5502 - accuracy: 0.7664\n",
            "Epoch 22/50\n",
            "5/5 [==============================] - 0s 23ms/step - loss: 0.4752 - accuracy: 0.8175\n",
            "Epoch 23/50\n",
            "5/5 [==============================] - 0s 23ms/step - loss: 0.4352 - accuracy: 0.8540\n",
            "Epoch 24/50\n",
            "5/5 [==============================] - 0s 22ms/step - loss: 0.4115 - accuracy: 0.8686\n",
            "Epoch 25/50\n",
            "5/5 [==============================] - 0s 22ms/step - loss: 0.4292 - accuracy: 0.8321\n",
            "Epoch 26/50\n",
            "5/5 [==============================] - 0s 23ms/step - loss: 0.3970 - accuracy: 0.8978\n",
            "Epoch 27/50\n",
            "5/5 [==============================] - 0s 22ms/step - loss: 0.3203 - accuracy: 0.8759\n",
            "Epoch 28/50\n",
            "5/5 [==============================] - 0s 22ms/step - loss: 0.4788 - accuracy: 0.8102\n",
            "Epoch 29/50\n",
            "5/5 [==============================] - 0s 22ms/step - loss: 0.7224 - accuracy: 0.7737\n",
            "Epoch 30/50\n",
            "5/5 [==============================] - 0s 22ms/step - loss: 0.4117 - accuracy: 0.8759\n",
            "Epoch 31/50\n",
            "5/5 [==============================] - 0s 23ms/step - loss: 0.3916 - accuracy: 0.8759\n",
            "Epoch 32/50\n",
            "5/5 [==============================] - 0s 21ms/step - loss: 0.3041 - accuracy: 0.9270\n",
            "Epoch 33/50\n",
            "5/5 [==============================] - 0s 22ms/step - loss: 0.3170 - accuracy: 0.8613\n",
            "Epoch 34/50\n",
            "5/5 [==============================] - 0s 22ms/step - loss: 0.3497 - accuracy: 0.8978\n",
            "Epoch 35/50\n",
            "5/5 [==============================] - 0s 24ms/step - loss: 0.3125 - accuracy: 0.8832\n",
            "Epoch 36/50\n",
            "5/5 [==============================] - 0s 22ms/step - loss: 0.2313 - accuracy: 0.9270\n",
            "Epoch 37/50\n",
            "5/5 [==============================] - 0s 22ms/step - loss: 0.2083 - accuracy: 0.9343\n",
            "Epoch 38/50\n",
            "5/5 [==============================] - 0s 23ms/step - loss: 0.2897 - accuracy: 0.9051\n",
            "Epoch 39/50\n",
            "5/5 [==============================] - 0s 22ms/step - loss: 0.2236 - accuracy: 0.9197\n",
            "Epoch 40/50\n",
            "5/5 [==============================] - 0s 23ms/step - loss: 0.2515 - accuracy: 0.8686\n",
            "Epoch 41/50\n",
            "5/5 [==============================] - 0s 23ms/step - loss: 0.1941 - accuracy: 0.9343\n",
            "Epoch 42/50\n",
            "5/5 [==============================] - 0s 22ms/step - loss: 0.1950 - accuracy: 0.9270\n",
            "Epoch 43/50\n",
            "5/5 [==============================] - 0s 25ms/step - loss: 0.2624 - accuracy: 0.9124\n",
            "Epoch 44/50\n",
            "5/5 [==============================] - 0s 23ms/step - loss: 0.2829 - accuracy: 0.8540\n",
            "Epoch 45/50\n",
            "5/5 [==============================] - 0s 22ms/step - loss: 0.1787 - accuracy: 0.9489\n",
            "Epoch 46/50\n",
            "5/5 [==============================] - 0s 23ms/step - loss: 0.2191 - accuracy: 0.9051\n",
            "Epoch 47/50\n",
            "5/5 [==============================] - 0s 22ms/step - loss: 0.2838 - accuracy: 0.8978\n",
            "Epoch 48/50\n",
            "5/5 [==============================] - 0s 22ms/step - loss: 0.2184 - accuracy: 0.9416\n",
            "Epoch 49/50\n",
            "5/5 [==============================] - 0s 24ms/step - loss: 0.1854 - accuracy: 0.9197\n",
            "Epoch 50/50\n",
            "5/5 [==============================] - 0s 22ms/step - loss: 0.1517 - accuracy: 0.9489\n"
          ]
        },
        {
          "output_type": "execute_result",
          "data": {
            "text/plain": [
              "<keras.callbacks.History at 0x7f49f71d0550>"
            ]
          },
          "metadata": {},
          "execution_count": 88
        }
      ]
    },
    {
      "cell_type": "markdown",
      "metadata": {
        "id": "LKq8w_ZuEEgV"
      },
      "source": [
        "## Evaluating model performance"
      ]
    },
    {
      "cell_type": "code",
      "metadata": {
        "id": "zv8u_EejARBp",
        "execution": {
          "iopub.status.busy": "2021-10-07T05:39:15.207466Z",
          "iopub.execute_input": "2021-10-07T05:39:15.207821Z",
          "iopub.status.idle": "2021-10-07T05:39:15.285806Z",
          "shell.execute_reply.started": "2021-10-07T05:39:15.207769Z",
          "shell.execute_reply": "2021-10-07T05:39:15.284650Z"
        },
        "trusted": true,
        "colab": {
          "base_uri": "https://localhost:8080/"
        },
        "outputId": "60151966-0c5d-4171-887b-5002ec451624"
      },
      "source": [
        "X_test_indices = sentences_to_indices(X_test, word2Ind, max_len)\n",
        "y_test_oh = to_categorical(y_test, num_classes=5)\n",
        "loss, accuracy = model.evaluate(X_test_indices, y_test_oh)\n",
        "print()\n",
        "print(\"Test accuracy = \", accuracy)"
      ],
      "execution_count": 89,
      "outputs": [
        {
          "output_type": "stream",
          "name": "stdout",
          "text": [
            "2/2 [==============================] - 1s 12ms/step - loss: 1.3037 - accuracy: 0.7391\n",
            "\n",
            "Test accuracy =  0.739130437374115\n"
          ]
        }
      ]
    },
    {
      "cell_type": "markdown",
      "metadata": {
        "id": "HGOor6H_GXis"
      },
      "source": [
        "## Predicting custom sentence emoji\n"
      ]
    },
    {
      "cell_type": "code",
      "metadata": {
        "id": "_mdc0u8gATMd",
        "execution": {
          "iopub.status.busy": "2021-10-07T05:42:55.436203Z",
          "iopub.execute_input": "2021-10-07T05:42:55.436862Z",
          "iopub.status.idle": "2021-10-07T05:42:55.492448Z",
          "shell.execute_reply.started": "2021-10-07T05:42:55.436815Z",
          "shell.execute_reply": "2021-10-07T05:42:55.491318Z"
        },
        "trusted": true,
        "colab": {
          "base_uri": "https://localhost:8080/"
        },
        "outputId": "ca4fccd4-44e2-4118-cce3-a67e6de5f066"
      },
      "source": [
        "sentence = 'i am not feeling happy'\n",
        "test_sentence = np.array([sentence])\n",
        "test_sentence_indices = sentences_to_indices(test_sentence, word2Ind, max_len)\n",
        "test_pred = model.predict(test_sentence_indices)\n",
        "print(test_sentence[0] +' '+  label_to_emoji(np.argmax(test_pred)))"
      ],
      "execution_count": 90,
      "outputs": [
        {
          "output_type": "stream",
          "name": "stdout",
          "text": [
            "i am not feeling happy 😞\n"
          ]
        }
      ]
    }
  ]
}